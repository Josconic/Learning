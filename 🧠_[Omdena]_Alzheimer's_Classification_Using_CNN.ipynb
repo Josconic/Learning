{
  "metadata": {
    "kernelspec": {
      "display_name": "Python 3",
      "language": "python",
      "name": "python3"
    },
    "language_info": {
      "codemirror_mode": {
        "name": "ipython",
        "version": 3
      },
      "file_extension": ".py",
      "mimetype": "text/x-python",
      "name": "python",
      "nbconvert_exporter": "python",
      "pygments_lexer": "ipython3",
      "version": "3.10.12"
    },
    "papermill": {
      "default_parameters": {},
      "duration": 329.808002,
      "end_time": "2023-09-28T03:11:47.520295",
      "environment_variables": {},
      "exception": null,
      "input_path": "__notebook__.ipynb",
      "output_path": "__notebook__.ipynb",
      "parameters": {},
      "start_time": "2023-09-28T03:06:17.712293",
      "version": "2.4.0"
    },
    "kaggle": {
      "accelerator": "gpu",
      "dataSources": [
        {
          "sourceId": 7106904,
          "sourceType": "datasetVersion",
          "datasetId": 4097281
        }
      ],
      "dockerImageVersionId": 30588,
      "isInternetEnabled": true,
      "language": "python",
      "sourceType": "notebook",
      "isGpuEnabled": true
    },
    "colab": {
      "name": "🧠 [Omdena] Alzheimer's Classification Using CNN",
      "provenance": [],
      "include_colab_link": true
    }
  },
  "nbformat_minor": 0,
  "nbformat": 4,
  "cells": [
    {
      "cell_type": "markdown",
      "metadata": {
        "id": "view-in-github",
        "colab_type": "text"
      },
      "source": [
        "<a href=\"https://colab.research.google.com/github/Josconic/Learning/blob/main/%F0%9F%A7%A0_%5BOmdena%5D_Alzheimer's_Classification_Using_CNN.ipynb\" target=\"_parent\"><img src=\"https://colab.research.google.com/assets/colab-badge.svg\" alt=\"Open In Colab\"/></a>"
      ]
    },
    {
      "source": [
        "\n",
        "# IMPORTANT: RUN THIS CELL IN ORDER TO IMPORT YOUR KAGGLE DATA SOURCES\n",
        "# TO THE CORRECT LOCATION (/kaggle/input) IN YOUR NOTEBOOK,\n",
        "# THEN FEEL FREE TO DELETE THIS CELL.\n",
        "# NOTE: THIS NOTEBOOK ENVIRONMENT DIFFERS FROM KAGGLE'S PYTHON\n",
        "# ENVIRONMENT SO THERE MAY BE MISSING LIBRARIES USED BY YOUR\n",
        "# NOTEBOOK.\n",
        "\n",
        "import os\n",
        "import sys\n",
        "from tempfile import NamedTemporaryFile\n",
        "from urllib.request import urlopen\n",
        "from urllib.parse import unquote, urlparse\n",
        "from urllib.error import HTTPError\n",
        "from zipfile import ZipFile\n",
        "import tarfile\n",
        "import shutil\n",
        "\n",
        "CHUNK_SIZE = 40960\n",
        "DATA_SOURCE_MAPPING = 'alzheimers-mri-brain-scan-images-augmented:https%3A%2F%2Fstorage.googleapis.com%2Fkaggle-data-sets%2F4097281%2F7106904%2Fbundle%2Farchive.zip%3FX-Goog-Algorithm%3DGOOG4-RSA-SHA256%26X-Goog-Credential%3Dgcp-kaggle-com%2540kaggle-161607.iam.gserviceaccount.com%252F20240620%252Fauto%252Fstorage%252Fgoog4_request%26X-Goog-Date%3D20240620T132448Z%26X-Goog-Expires%3D259200%26X-Goog-SignedHeaders%3Dhost%26X-Goog-Signature%3D824541fe02b3278dba00e9b3e5616ef312b53972447b04553ff4df78193526421071868d9df4c540623c7dc7c33b2ee7007b98e1670ae8a5ec71d5e331ad0d8d75dd375ee99d8445e0b1a882b487bb4d20994b63f080c27d7ea6576d4dd77baecf12f0a44dffc7084647307136bcdafcab2fa25dca3d900c808f3a8506563cb8506d40e926ca9dda55578217237fee31b038a7453980ce1de713df5bc89747fad66370d32120f6bf6506598512c4f3570e584eb78dc3140b324453734f4753bbc34f7b4886b2230e4742c683e0549fe2bb6b45b074e08dd19312fd1ea77075709fb37aca568df65515a780194262d7361c0f697577ecb38b2f608c589982e894'\n",
        "\n",
        "KAGGLE_INPUT_PATH='/kaggle/input'\n",
        "KAGGLE_WORKING_PATH='/kaggle/working'\n",
        "KAGGLE_SYMLINK='kaggle'\n",
        "\n",
        "!umount /kaggle/input/ 2> /dev/null\n",
        "shutil.rmtree('/kaggle/input', ignore_errors=True)\n",
        "os.makedirs(KAGGLE_INPUT_PATH, 0o777, exist_ok=True)\n",
        "os.makedirs(KAGGLE_WORKING_PATH, 0o777, exist_ok=True)\n",
        "\n",
        "try:\n",
        "  os.symlink(KAGGLE_INPUT_PATH, os.path.join(\"..\", 'input'), target_is_directory=True)\n",
        "except FileExistsError:\n",
        "  pass\n",
        "try:\n",
        "  os.symlink(KAGGLE_WORKING_PATH, os.path.join(\"..\", 'working'), target_is_directory=True)\n",
        "except FileExistsError:\n",
        "  pass\n",
        "\n",
        "for data_source_mapping in DATA_SOURCE_MAPPING.split(','):\n",
        "    directory, download_url_encoded = data_source_mapping.split(':')\n",
        "    download_url = unquote(download_url_encoded)\n",
        "    filename = urlparse(download_url).path\n",
        "    destination_path = os.path.join(KAGGLE_INPUT_PATH, directory)\n",
        "    try:\n",
        "        with urlopen(download_url) as fileres, NamedTemporaryFile() as tfile:\n",
        "            total_length = fileres.headers['content-length']\n",
        "            print(f'Downloading {directory}, {total_length} bytes compressed')\n",
        "            dl = 0\n",
        "            data = fileres.read(CHUNK_SIZE)\n",
        "            while len(data) > 0:\n",
        "                dl += len(data)\n",
        "                tfile.write(data)\n",
        "                done = int(50 * dl / int(total_length))\n",
        "                sys.stdout.write(f\"\\r[{'=' * done}{' ' * (50-done)}] {dl} bytes downloaded\")\n",
        "                sys.stdout.flush()\n",
        "                data = fileres.read(CHUNK_SIZE)\n",
        "            if filename.endswith('.zip'):\n",
        "              with ZipFile(tfile) as zfile:\n",
        "                zfile.extractall(destination_path)\n",
        "            else:\n",
        "              with tarfile.open(tfile.name) as tarfile:\n",
        "                tarfile.extractall(destination_path)\n",
        "            print(f'\\nDownloaded and uncompressed: {directory}')\n",
        "    except HTTPError as e:\n",
        "        print(f'Failed to load (likely expired) {download_url} to path {destination_path}')\n",
        "        continue\n",
        "    except OSError as e:\n",
        "        print(f'Failed to load {download_url} to path {destination_path}')\n",
        "        continue\n",
        "\n",
        "print('Data source import complete.')\n"
      ],
      "metadata": {
        "id": "8IgVkC2BFa6F"
      },
      "cell_type": "code",
      "outputs": [],
      "execution_count": null
    },
    {
      "cell_type": "markdown",
      "source": [
        "<h1 style=\"font-family:Verdana;\"> <center>🧠 Alzheimer's Classification Using Convolutional Neural Networks</center> </h1>\n",
        "<p><center style=\"color:#159364; font-family:Helvetica; font-size:20px;\">A Comprehensive Notebook Outlining a Transfer Learning approach for Alzheimer's Classification</center></p>\n",
        "\n",
        "---\n",
        "\n",
        "<center><img src='https://img.freepik.com/free-vector/alzheimer-disease-composition-with-senior-man_1284-64661.jpg?w=360&t=st=1701487425~exp=1701488025~hmac=2cb12c9242a61401bf9614302808f4b79773283851cb9d4694425d56b6b0d10b' height=150px width=400px></center>\n",
        "\n",
        "# 👋Thanks for Visiting my Notebook\n",
        "<div class=\"alert alert-block alert-info\" style=\"font-size:20px; font-family:verdana; border-radius: 15px; background-color: #cce5ff; border-color: #b8daff;\">\n",
        "    📌 Feel free to fork or edit the notebook for your own convenience. If you liked the notebook, consider upvoting. It helps other people discover the notebook as well. Your support inspires me to produce more of these kernels.😊\n",
        "</div>\n",
        "\n",
        "# 🔬Overview\n",
        "<div style=\"background-color:#fff1cc; padding: 20px;\">\n",
        "<p style=\"font-size:20px; font-family:verdana; line-height: 1.7em\">Alzheimer's disease, a progressive neurodegenerative disorder, is one of the most common causes of dementia in older adults. Early and accurate diagnosis is crucial for managing and treating this condition. Recent advances in machine learning, particularly in Convolutional Neural Networks (CNN), have shown promising results in medical image analysis, including brain imaging.</p>\n",
        "\n",
        "<p style=\"font-size:20px; font-family:verdana; line-height: 1.7em\">This notebook explores the application of CNNs in the classification of Alzheimer's disease using brain imaging data. We'll leverage transfer learning, a technique where a model developed for a task is reused as the starting point for a model on a second task, to enhance our model's performance. This approach is particularly beneficial due to the limited availability of labeled medical imaging data in this field.</p>\n",
        "\n",
        "<p style=\"font-size:20px; font-family:verdana; line-height: 1.7em\">Our focus will be on processing and classifying brain images to identify markers indicative of Alzheimer's. This includes differentiating between various stages of the disease and comparing them with different levels of dementia. The goal is to provide a reliable tool that can assist healthcare professionals in early diagnosis and intervention.</p>\n",
        "</div>\n",
        "\n",
        "\n",
        "# ❗Author's Note:\n",
        "<div style=\"background-color:#d4f1f4; padding: 20px;\">\n",
        "<p style=\"font-size:20px; font-family:verdana; line-height: 1.7em\">Make sure to run the cells from top to bottom with a GPU accelerator. There are some linux commands present in some cells so this is important to take into account. Also, any suggestions, comments, and recommendations to improve the notebook will be highly appreciated. Cheers!</p>\n",
        "</div>\n"
      ],
      "metadata": {
        "id": "n6QHvU2dfpFz",
        "papermill": {
          "duration": 0.013059,
          "end_time": "2023-09-28T03:06:21.073489",
          "exception": false,
          "start_time": "2023-09-28T03:06:21.06043",
          "status": "completed"
        },
        "tags": []
      }
    },
    {
      "cell_type": "markdown",
      "source": [
        "<div style=\"background-color:#fff1cc; padding: 20px; border-radius: 15px; box-shadow: 0 2px 4px 0 rgba(0, 0, 0, 0.1);\">\n",
        "    <h3 style=\"font-size:24px; font-family:verdana; color:#6F4E37;\"><b>🏗️Import Necessary Libraries</b></h3>\n",
        "    <p style=\"font-size:20px; font-family:verdana; line-height: 1.7em; text-indent: 20px;\">The code imports various data science libraries, including TensorFlow and scikit-learn, and defines a neural network model using the various CNN architecture. It also includes system libraries for handling file paths and metrics for evaluating model performance. Additionally, it sets up various callbacks and optimizers to optimize the training process.</p>\n",
        "</div>\n"
      ],
      "metadata": {
        "id": "kQELj5Dwf3on",
        "papermill": {
          "duration": 0.011768,
          "end_time": "2023-09-28T03:06:21.097531",
          "exception": false,
          "start_time": "2023-09-28T03:06:21.085763",
          "status": "completed"
        },
        "tags": []
      }
    },
    {
      "cell_type": "code",
      "source": [
        "# Import Data Science Libraries\n",
        "import numpy as np\n",
        "import pandas as pd\n",
        "import matplotlib.pyplot as plt\n",
        "import tensorflow as tf\n",
        "from sklearn.model_selection import train_test_split\n",
        "\n",
        "# Tensorflow Libraries\n",
        "from tensorflow import keras\n",
        "from tensorflow.keras import layers,models\n",
        "from keras.preprocessing.image import ImageDataGenerator\n",
        "from keras.layers import Dense, Dropout\n",
        "from tensorflow.keras.callbacks import Callback, EarlyStopping,ModelCheckpoint, ReduceLROnPlateau\n",
        "from tensorflow.keras.optimizers import Adam\n",
        "from tensorflow.keras.applications import MobileNetV2\n",
        "from tensorflow.keras import Model\n",
        "from tensorflow.keras.layers.experimental import preprocessing\n",
        "\n",
        "# System libraries\n",
        "from pathlib import Path\n",
        "import os.path\n",
        "import random\n",
        "from collections import Counter\n",
        "\n",
        "# Visualization Libraries\n",
        "import matplotlib.cm as cm\n",
        "import cv2\n",
        "import seaborn as sns\n",
        "from cycler import cycler\n",
        "import textwrap\n",
        "\n",
        "sns.set_style('darkgrid')\n",
        "\n",
        "# Metrics\n",
        "from sklearn.metrics import classification_report, confusion_matrix\n",
        "import itertools"
      ],
      "metadata": {
        "id": "lEzJXgjDf5y8",
        "papermill": {
          "duration": 9.617695,
          "end_time": "2023-09-28T03:06:30.727221",
          "exception": false,
          "start_time": "2023-09-28T03:06:21.109526",
          "status": "completed"
        },
        "tags": [],
        "execution": {
          "iopub.status.busy": "2023-12-30T17:29:55.222253Z",
          "iopub.execute_input": "2023-12-30T17:29:55.222729Z",
          "iopub.status.idle": "2023-12-30T17:29:55.232312Z",
          "shell.execute_reply.started": "2023-12-30T17:29:55.222678Z",
          "shell.execute_reply": "2023-12-30T17:29:55.231281Z"
        },
        "trusted": true
      },
      "execution_count": null,
      "outputs": []
    },
    {
      "cell_type": "markdown",
      "source": [
        "<div style=\"background-color:#fff1cc; padding: 20px; border-radius: 15px; box-shadow: 0 2px 4px 0 rgba(0, 0, 0, 0.1);\">\n",
        "    <h3 style=\"font-size:24px; font-family:verdana; color:#6F4E37;\"><b>🧠 Load and Process Brain Images for Alzheimer's Classification</b></h3>\n",
        "    <p style=\"font-size:20px; font-family:verdana; line-height: 1.7em\">In this notebook, we'll delve into the Alzheimer's Disease Image Dataset. This dataset comprises brain images representing various stages of Alzheimer's disease, categorized as: 'Non Demented', 'Very Mild Demented', 'Mild Demented', and 'Moderate Demented'. Our goal is to preprocess these images and employ them to train a Convolutional Neural Network (CNN) for accurate classification of the disease stages.</p>\n",
        "</div>\n"
      ],
      "metadata": {
        "id": "Hb_XPhOwiCNY",
        "papermill": {
          "duration": 0.012085,
          "end_time": "2023-09-28T03:06:30.751949",
          "exception": false,
          "start_time": "2023-09-28T03:06:30.739864",
          "status": "completed"
        },
        "tags": []
      }
    },
    {
      "cell_type": "code",
      "source": [
        "# Create helper functions\n",
        "!wget https://raw.githubusercontent.com/mrdbourke/tensorflow-deep-learning/main/extras/helper_functions.py\n",
        "\n",
        "# Import series of helper functions for our notebook\n",
        "from helper_functions import create_tensorboard_callback, plot_loss_curves, unzip_data, compare_historys, walk_through_dir, pred_and_plot\n",
        "\n",
        "\n",
        "BATCH_SIZE = 64\n",
        "TARGET_SIZE = (300, 300)\n",
        "# Walk through each directory\n",
        "dataset = \"/kaggle/input/alzheimers-mri-brain-scan-images-augmented\"\n",
        "# walk_through_dir(dataset);"
      ],
      "metadata": {
        "id": "8nD56d7Xxmc3",
        "papermill": {
          "duration": 1.498191,
          "end_time": "2023-09-28T03:06:32.26207",
          "exception": false,
          "start_time": "2023-09-28T03:06:30.763879",
          "status": "completed"
        },
        "tags": [],
        "execution": {
          "iopub.status.busy": "2023-12-30T17:29:55.234212Z",
          "iopub.execute_input": "2023-12-30T17:29:55.234562Z",
          "iopub.status.idle": "2023-12-30T17:29:56.415084Z",
          "shell.execute_reply.started": "2023-12-30T17:29:55.234537Z",
          "shell.execute_reply": "2023-12-30T17:29:56.41345Z"
        },
        "trusted": true
      },
      "execution_count": null,
      "outputs": []
    },
    {
      "cell_type": "code",
      "source": [
        "# Seed Everything to reproduce results for future use cases\n",
        "def seed_everything(seed=42):\n",
        "    # Seed value for TensorFlow\n",
        "    tf.random.set_seed(seed)\n",
        "\n",
        "    # Seed value for NumPy\n",
        "    np.random.seed(seed)\n",
        "\n",
        "    # Seed value for Python's random library\n",
        "    random.seed(seed)\n",
        "\n",
        "    # Force TensorFlow to use single thread\n",
        "    # Multiple threads are a potential source of non-reproducible results.\n",
        "    session_conf = tf.compat.v1.ConfigProto(\n",
        "        intra_op_parallelism_threads=1,\n",
        "        inter_op_parallelism_threads=1\n",
        "    )\n",
        "\n",
        "    # Make sure that TensorFlow uses a deterministic operation wherever possible\n",
        "    tf.compat.v1.set_random_seed(seed)\n",
        "\n",
        "    sess = tf.compat.v1.Session(graph=tf.compat.v1.get_default_graph(), config=session_conf)\n",
        "    tf.compat.v1.keras.backend.set_session(sess)\n",
        "\n",
        "seed_everything()"
      ],
      "metadata": {
        "papermill": {
          "duration": 3.328064,
          "end_time": "2023-09-28T03:06:35.60353",
          "exception": false,
          "start_time": "2023-09-28T03:06:32.275466",
          "status": "completed"
        },
        "tags": [],
        "execution": {
          "iopub.status.busy": "2023-12-30T17:29:56.417576Z",
          "iopub.execute_input": "2023-12-30T17:29:56.418308Z",
          "iopub.status.idle": "2023-12-30T17:29:56.488506Z",
          "shell.execute_reply.started": "2023-12-30T17:29:56.418254Z",
          "shell.execute_reply": "2023-12-30T17:29:56.487537Z"
        },
        "trusted": true,
        "id": "ClkPIDU-Fa6R"
      },
      "execution_count": null,
      "outputs": []
    },
    {
      "cell_type": "markdown",
      "source": [
        "<div style=\"background-color:#fff1cc; padding: 20px; border-radius: 15px; box-shadow: 0 2px 4px 0 rgba(0, 0, 0, 0.1);\">\n",
        "    <h3 style=\"font-size:24px; font-family:verdana; color:#6F4E37;\"><b>📅Placing Data into a Dataframe</b></h3>\n",
        "    <p style=\"font-size:20px; font-family:verdana; line-height: 1.7em; text-indent: 20px;\">The first column <b>filepaths</b> contains the file path location of each individual images. The second column <b>labels</b>, on the other hand, contains the class label of the corresponding image from the file path</p>\n",
        "</div>\n"
      ],
      "metadata": {
        "id": "MLAnhGlf1hmo",
        "papermill": {
          "duration": 0.013911,
          "end_time": "2023-09-28T03:06:35.640882",
          "exception": false,
          "start_time": "2023-09-28T03:06:35.626971",
          "status": "completed"
        },
        "tags": []
      }
    },
    {
      "cell_type": "code",
      "source": [
        "def create_image_dataframe(dataset_path: str) -> pd.DataFrame:\n",
        "    image_dir = Path(dataset_path)\n",
        "\n",
        "    # Get filepaths for various extensions\n",
        "    filepaths = list(image_dir.glob(r'**/*.JPG')) + \\\n",
        "                list(image_dir.glob(r'**/*.jpg')) + \\\n",
        "                list(image_dir.glob(r'**/*.png')) + \\\n",
        "                list(image_dir.glob(r'**/*.PNG'))\n",
        "\n",
        "    # Extract labels from filepaths\n",
        "    labels = list(map(lambda x: os.path.split(os.path.split(x)[0])[1], filepaths))\n",
        "\n",
        "    # Convert lists to Series\n",
        "    filepaths_series = pd.Series(filepaths, name='Filepath').astype(str)\n",
        "    labels_series = pd.Series(labels, name='Label')\n",
        "\n",
        "    # Concatenate filepaths and labels into a DataFrame\n",
        "    image_df = pd.concat([filepaths_series, labels_series], axis=1)\n",
        "\n",
        "    return image_df\n",
        "\n",
        "# Usage\n",
        "test_dataset = \"/kaggle/input/alzheimers-mri-brain-scan-images-augmented/test_images\"\n",
        "train_dataset = \"/kaggle/input/alzheimers-mri-brain-scan-images-augmented/train_images\"\n",
        "\n",
        "test_df = create_image_dataframe(test_dataset)\n",
        "train_df = create_image_dataframe(train_dataset)"
      ],
      "metadata": {
        "_kg_hide-input": true,
        "id": "s14XOEp01m_s",
        "papermill": {
          "duration": 0.216673,
          "end_time": "2023-09-28T03:06:35.870717",
          "exception": false,
          "start_time": "2023-09-28T03:06:35.654044",
          "status": "completed"
        },
        "tags": [],
        "execution": {
          "iopub.status.busy": "2023-12-30T17:29:56.489756Z",
          "iopub.execute_input": "2023-12-30T17:29:56.490098Z",
          "iopub.status.idle": "2023-12-30T17:30:15.797267Z",
          "shell.execute_reply.started": "2023-12-30T17:29:56.490073Z",
          "shell.execute_reply": "2023-12-30T17:30:15.796449Z"
        },
        "trusted": true
      },
      "execution_count": null,
      "outputs": []
    },
    {
      "cell_type": "code",
      "source": [
        "test_df"
      ],
      "metadata": {
        "papermill": {
          "duration": 0.041058,
          "end_time": "2023-09-28T03:06:35.929467",
          "exception": false,
          "start_time": "2023-09-28T03:06:35.888409",
          "status": "completed"
        },
        "tags": [],
        "execution": {
          "iopub.status.busy": "2023-12-30T17:30:15.799765Z",
          "iopub.execute_input": "2023-12-30T17:30:15.800085Z",
          "iopub.status.idle": "2023-12-30T17:30:15.81308Z",
          "shell.execute_reply.started": "2023-12-30T17:30:15.800058Z",
          "shell.execute_reply": "2023-12-30T17:30:15.812083Z"
        },
        "trusted": true,
        "id": "Hvy56jIRFa6T"
      },
      "execution_count": null,
      "outputs": []
    },
    {
      "cell_type": "code",
      "source": [
        "plt.style.use('fivethirtyeight')\n",
        "\n",
        "# Get the labels\n",
        "label_counts = train_df['Label'].value_counts()[:]\n",
        "\n",
        "# Create a cycler object using the desired colors\n",
        "color_cycler = (cycler(color=[\"#3B240B\"]))  # Darker coffee brown color\n",
        "\n",
        "# Set the property cycle of the axes to the created cycler object\n",
        "plt.rc('axes', prop_cycle=color_cycler)\n",
        "\n",
        "# Other styling options\n",
        "plt.rc(\"font\", family=\"serif\", size=18.)\n",
        "plt.rc(\"savefig\", dpi=200)\n",
        "plt.rc(\"legend\", loc=\"best\", fontsize=\"medium\", fancybox=True, framealpha=0.5)\n",
        "plt.rc(\"lines\", linewidth=2.5, markersize=10, markeredgewidth=2.5)\n",
        "\n",
        "plt.figure(figsize=(30, 10), dpi=300)  # Increase figure size\n",
        "bars = plt.bar(label_counts.index, label_counts.values, alpha=0.8)\n",
        "plt.title('Distribution of Classes in the Dataset', fontsize=20, fontweight='bold')\n",
        "plt.xlabel('Label', fontsize=16, fontweight='bold')\n",
        "plt.ylabel('Count', fontsize=16, fontweight='bold')\n",
        "\n",
        "# Wrap x-labels\n",
        "plt.xticks(range(len(label_counts.index)), label_counts.index, fontsize=12, ha='center')  # Use original labels without wrapping\n",
        "\n",
        "plt.yticks(fontsize=14)\n",
        "plt.xticks(fontsize=24)\n",
        "\n",
        "# Adjust y limit to avoid overlapping\n",
        "plt.ylim(0, max(label_counts) * 1.1)  # Set y limit 10% higher than the max value\n",
        "\n",
        "# Add value annotations on top of each bar\n",
        "for bar in bars:\n",
        "    yval = bar.get_height()\n",
        "    plt.text(bar.get_x() + bar.get_width() / 2, yval + 0.05, int(yval), ha='center', va='bottom')\n",
        "\n",
        "plt.show()\n"
      ],
      "metadata": {
        "_kg_hide-input": true,
        "id": "d3-uoP4n1oqK",
        "papermill": {
          "duration": 1.974007,
          "end_time": "2023-09-28T03:06:37.918861",
          "exception": false,
          "start_time": "2023-09-28T03:06:35.944854",
          "status": "completed"
        },
        "tags": [],
        "execution": {
          "iopub.status.busy": "2023-12-30T17:30:15.814279Z",
          "iopub.execute_input": "2023-12-30T17:30:15.81462Z",
          "iopub.status.idle": "2023-12-30T17:30:17.701165Z",
          "shell.execute_reply.started": "2023-12-30T17:30:15.814593Z",
          "shell.execute_reply": "2023-12-30T17:30:17.700203Z"
        },
        "trusted": true
      },
      "execution_count": null,
      "outputs": []
    },
    {
      "cell_type": "markdown",
      "source": [
        "# 🔭Visualizing images from the dataset"
      ],
      "metadata": {
        "id": "agb1QMDO1pps",
        "papermill": {
          "duration": 0.01681,
          "end_time": "2023-09-28T03:06:37.952904",
          "exception": false,
          "start_time": "2023-09-28T03:06:37.936094",
          "status": "completed"
        },
        "tags": []
      }
    },
    {
      "cell_type": "code",
      "source": [
        "# Set title size and figure background color\n",
        "plt.rcParams['axes.titlesize'] = 'small'  # Adjust as needed\n",
        "plt.rcParams['figure.facecolor'] = 'white'  # Set figure background color to white\n",
        "\n",
        "# Display 16 pictures of the dataset with their labels\n",
        "random_index = np.random.randint(0, len(train_df), 16)\n",
        "fig, axes = plt.subplots(nrows=4, ncols=4, figsize=(10, 10),\n",
        "                        subplot_kw={'xticks': [], 'yticks': []})\n",
        "\n",
        "for i, ax in enumerate(axes.flat):\n",
        "    ax.imshow(plt.imread(train_df.Filepath[random_index[i]]))\n",
        "    title = train_df.Label[random_index[i]]\n",
        "    ax.set_title(\"\\n\".join(textwrap.wrap(title, 20)), fontsize=8)  # Wrap long titles\n",
        "plt.tight_layout()\n",
        "plt.subplots_adjust(hspace=0.5)  # Increase vertical space between subplots\n",
        "plt.show()\n"
      ],
      "metadata": {
        "id": "m4WJVJ7j1rU9",
        "papermill": {
          "duration": 1.707431,
          "end_time": "2023-09-28T03:06:39.676756",
          "exception": false,
          "start_time": "2023-09-28T03:06:37.969325",
          "status": "completed"
        },
        "tags": [],
        "execution": {
          "iopub.status.busy": "2023-12-30T17:30:17.702506Z",
          "iopub.execute_input": "2023-12-30T17:30:17.702832Z",
          "iopub.status.idle": "2023-12-30T17:30:19.136359Z",
          "shell.execute_reply.started": "2023-12-30T17:30:17.702805Z",
          "shell.execute_reply": "2023-12-30T17:30:19.135388Z"
        },
        "trusted": true
      },
      "execution_count": null,
      "outputs": []
    },
    {
      "cell_type": "markdown",
      "source": [
        "<div style=\"background-color:#fff1cc; padding: 20px; border-radius: 15px; box-shadow: 0 2px 4px 0 rgba(0, 0, 0, 0.1);\">\n",
        "    <h3 style=\"font-size:24px; font-family:verdana; color:#6F4E37;\"><b>🧮Computing Error Rate Analysis</b></h3>\n",
        "    <p style=\"font-size:20px; font-family:verdana; line-height: 1.7em; text-indent: 20px;\">The code below is used for error level analysis (ELA) of images in the context of a animals image classification task.</p>\n",
        "    <p style=\"font-size:20px; font-family:verdana; line-height: 1.7em; text-indent: 20px;\">The compute_ela_cv() function takes an image path and a quality parameter, compresses the image using JPEG compression at the given quality, and computes the absolute difference between the compressed and original images. The difference is multiplied by a scale factor and returned as an ELA image.</p>\n",
        "    <p style=\"font-size:20px; font-family:verdana; line-height: 1.7em; text-indent: 20px;\">The convert_to_ela_image() function takes an image path and a quality parameter, compresses the image using JPEG compression at the given quality, computes the absolute difference between the compressed and original images, and returns an ELA image. The ELA image is computed using the difference in pixel values between the original and compressed images, and is normalized to enhance the differences.</p>\n",
        "    <p style=\"font-size:20px; font-family:verdana; line-height: 1.7em; text-indent: 20px;\">The random_sample() function takes a directory path and an optional file extension, and returns a random file path from that directory with the specified extension (if provided).</p>\n",
        "    <p style=\"font-size:20px; font-family:verdana; line-height: 1.7em; text-indent: 20px;\">Finally, the code generates a set of ELA images using the compute_ela_cv() function for a randomly selected image from the test dataset of animals images. The ELA images are generated with decreasing quality levels, resulting in increasing levels of compression and thus increasing levels of error. The resulting images are plotted using matplotlib.</p>\n",
        "    <p style=\"font-size:20px; font-family:verdana; line-height: 1.7em; text-indent: 20px;\">Overall, this code provides a way to visually analyze the effect of different levels of JPEG compression on animals images, and may be used to identify optimal quality levels for image compression in the context of a animals image classification task.</p>\n",
        "</div>\n"
      ],
      "metadata": {
        "papermill": {
          "duration": 0.030859,
          "end_time": "2023-09-28T03:06:39.73611",
          "exception": false,
          "start_time": "2023-09-28T03:06:39.705251",
          "status": "completed"
        },
        "tags": [],
        "id": "hhWq9GMMFa6V"
      }
    },
    {
      "cell_type": "code",
      "source": [
        "def compute_ela_cv(path, quality):\n",
        "    temp_filename = 'temp_file_name.jpeg'\n",
        "    SCALE = 15\n",
        "    orig_img = cv2.imread(path)\n",
        "    orig_img = cv2.cvtColor(orig_img, cv2.COLOR_BGR2RGB)\n",
        "\n",
        "    cv2.imwrite(temp_filename, orig_img, [cv2.IMWRITE_JPEG_QUALITY, quality])\n",
        "\n",
        "    # read compressed image\n",
        "    compressed_img = cv2.imread(temp_filename)\n",
        "\n",
        "    # get absolute difference between img1 and img2 and multiply by scale\n",
        "    diff = SCALE * cv2.absdiff(orig_img, compressed_img)\n",
        "    return diff\n",
        "\n",
        "\n",
        "def convert_to_ela_image(path, quality):\n",
        "    temp_filename = 'temp_file_name.jpeg'\n",
        "    ela_filename = 'temp_ela.png'\n",
        "    image = Image.open(path).convert('RGB')\n",
        "    image.save(temp_filename, 'JPEG', quality = quality)\n",
        "    temp_image = Image.open(temp_filename)\n",
        "\n",
        "    ela_image = ImageChops.difference(image, temp_image)\n",
        "\n",
        "    extrema = ela_image.getextrema()\n",
        "    max_diff = max([ex[1] for ex in extrema])\n",
        "    if max_diff == 0:\n",
        "        max_diff = 1\n",
        "\n",
        "    scale = 255.0 / max_diff\n",
        "    ela_image = ImageEnhance.Brightness(ela_image).enhance(scale)\n",
        "\n",
        "    return ela_image\n",
        "\n",
        "\n",
        "def random_sample(path, extension=None):\n",
        "    if extension:\n",
        "        items = Path(path).glob(f'*.{extension}')\n",
        "    else:\n",
        "        items = Path(path).glob(f'*')\n",
        "\n",
        "    items = list(items)\n",
        "\n",
        "    p = random.choice(items)\n",
        "    return p.as_posix()"
      ],
      "metadata": {
        "_kg_hide-input": true,
        "papermill": {
          "duration": 0.049009,
          "end_time": "2023-09-28T03:06:39.813054",
          "exception": false,
          "start_time": "2023-09-28T03:06:39.764045",
          "status": "completed"
        },
        "tags": [],
        "execution": {
          "iopub.status.busy": "2023-12-30T17:30:19.138094Z",
          "iopub.execute_input": "2023-12-30T17:30:19.138476Z",
          "iopub.status.idle": "2023-12-30T17:30:19.151309Z",
          "shell.execute_reply.started": "2023-12-30T17:30:19.138444Z",
          "shell.execute_reply": "2023-12-30T17:30:19.150267Z"
        },
        "trusted": true,
        "id": "pHFIWifrFa6W"
      },
      "execution_count": null,
      "outputs": []
    },
    {
      "cell_type": "code",
      "source": [
        "# View random sample from the dataset\n",
        "p = random_sample('/kaggle/input/alzheimers-mri-brain-scan-images-augmented/train_images/mild_dementia')\n",
        "orig = cv2.imread(p)\n",
        "orig = cv2.cvtColor(orig, cv2.COLOR_BGR2RGB) / 255.0\n",
        "init_val = 100\n",
        "columns = 3\n",
        "rows = 3\n",
        "\n",
        "fig=plt.figure(figsize=(15, 10))\n",
        "fig.suptitle('Error Level Analysis', fontsize=20)  # Add super title\n",
        "for i in range(1, columns*rows +1):\n",
        "    quality=init_val - (i-1) * 8\n",
        "    img = compute_ela_cv(path=p, quality=quality)\n",
        "    if i == 1:\n",
        "        img = orig.copy()\n",
        "    ax = fig.add_subplot(rows, columns, i)\n",
        "    ax.title.set_text(f'q: {quality}')\n",
        "    plt.imshow(img)\n",
        "    ax.set_xticks([])  # Remove x-ticks\n",
        "    ax.set_yticks([])  # Remove y-ticks\n",
        "plt.show()\n"
      ],
      "metadata": {
        "_kg_hide-input": true,
        "papermill": {
          "duration": 1.185237,
          "end_time": "2023-09-28T03:06:41.070187",
          "exception": false,
          "start_time": "2023-09-28T03:06:39.88495",
          "status": "completed"
        },
        "tags": [],
        "execution": {
          "iopub.status.busy": "2023-12-30T17:30:19.152744Z",
          "iopub.execute_input": "2023-12-30T17:30:19.153047Z",
          "iopub.status.idle": "2023-12-30T17:30:20.041089Z",
          "shell.execute_reply.started": "2023-12-30T17:30:19.153022Z",
          "shell.execute_reply": "2023-12-30T17:30:20.040086Z"
        },
        "trusted": true,
        "id": "p8FxM4siFa6W"
      },
      "execution_count": null,
      "outputs": []
    },
    {
      "cell_type": "markdown",
      "source": [
        "<div style=\"background-color:#fff1cc; padding: 20px; border-radius: 15px; box-shadow: 0 2px 4px 0 rgba(0, 0, 0, 0.1);\">\n",
        "    <h3 style=\"font-size:24px; font-family:verdana; color:#6F4E37;\"><b>📝Data Preprocessing</b></h3>\n",
        "    <p style=\"font-size:20px; font-family:verdana; line-height: 1.7em; text-indent: 20px;\">The data will be split into three different categories: Training, Validation and Testing. The training data will be used to train the deep learning CNN model and its parameters will be fine tuned with the validation data. Finally, the performance of the data will be evaluated using the test data(data the model has not previously seen).</p>\n",
        "</div>\n"
      ],
      "metadata": {
        "id": "YwC4EWei1s-V",
        "papermill": {
          "duration": 0.062032,
          "end_time": "2023-09-28T03:06:41.197337",
          "exception": false,
          "start_time": "2023-09-28T03:06:41.135305",
          "status": "completed"
        },
        "tags": []
      }
    },
    {
      "cell_type": "code",
      "source": [
        "PROCESSING_MODULE = tf.keras.applications.efficientnet_v2.preprocess_input\n",
        "train_generator = ImageDataGenerator(\n",
        "    preprocessing_function=PROCESSING_MODULE,\n",
        "    validation_split=0.2\n",
        ")\n",
        "\n",
        "test_generator = ImageDataGenerator(\n",
        "    preprocessing_function=PROCESSING_MODULE\n",
        ")"
      ],
      "metadata": {
        "id": "CsftNShQ2PaK",
        "papermill": {
          "duration": 1.757941,
          "end_time": "2023-09-28T03:06:43.154129",
          "exception": false,
          "start_time": "2023-09-28T03:06:41.396188",
          "status": "completed"
        },
        "tags": [],
        "execution": {
          "iopub.status.busy": "2023-12-30T17:30:20.04233Z",
          "iopub.execute_input": "2023-12-30T17:30:20.04265Z",
          "iopub.status.idle": "2023-12-30T17:30:20.048139Z",
          "shell.execute_reply.started": "2023-12-30T17:30:20.042624Z",
          "shell.execute_reply": "2023-12-30T17:30:20.047124Z"
        },
        "trusted": true
      },
      "execution_count": null,
      "outputs": []
    },
    {
      "cell_type": "code",
      "source": [
        "# Split the data into three categories.\n",
        "train_images = train_generator.flow_from_dataframe(\n",
        "    dataframe=train_df,\n",
        "    x_col='Filepath',\n",
        "    y_col='Label',\n",
        "    target_size=TARGET_SIZE,\n",
        "    color_mode='rgb',\n",
        "    class_mode='categorical',\n",
        "    batch_size=BATCH_SIZE,\n",
        "    shuffle=True,\n",
        "    seed=42,\n",
        "    subset='training'\n",
        ")\n",
        "\n",
        "val_images = train_generator.flow_from_dataframe(\n",
        "    dataframe=train_df,\n",
        "    x_col='Filepath',\n",
        "    y_col='Label',\n",
        "    target_size=TARGET_SIZE,\n",
        "    color_mode='rgb',\n",
        "    class_mode='categorical',\n",
        "    batch_size=BATCH_SIZE,\n",
        "    shuffle=True,\n",
        "    seed=42,\n",
        "    subset='validation'\n",
        ")\n",
        "\n",
        "test_images = test_generator.flow_from_dataframe(\n",
        "    dataframe=test_df,\n",
        "    x_col='Filepath',\n",
        "    y_col='Label',\n",
        "    target_size=TARGET_SIZE,\n",
        "    color_mode='rgb',\n",
        "    class_mode='categorical',\n",
        "    batch_size=BATCH_SIZE,\n",
        "    shuffle=False\n",
        ")"
      ],
      "metadata": {
        "execution": {
          "iopub.status.busy": "2023-12-30T17:30:20.049555Z",
          "iopub.execute_input": "2023-12-30T17:30:20.049896Z",
          "iopub.status.idle": "2023-12-30T17:30:23.4699Z",
          "shell.execute_reply.started": "2023-12-30T17:30:20.049872Z",
          "shell.execute_reply": "2023-12-30T17:30:23.468855Z"
        },
        "trusted": true,
        "id": "zXFhGRMIFa6Y"
      },
      "execution_count": null,
      "outputs": []
    },
    {
      "cell_type": "markdown",
      "source": [
        "<div style=\"background-color:#fff1cc; padding: 20px; border-radius: 15px; box-shadow: 0 2px 4px 0 rgba(0, 0, 0, 0.1);\">\n",
        "    <h3 style=\"font-size:24px; font-family:verdana; color:#6F4E37;\"><b>🤹Training the model</b></h3>\n",
        "  <p style=\"font-size:20px; font-family:verdana; line-height: 1.7em\">The model images will be subjected to a pre-trained CNN model called ResNet50. Three callbacks will be utilized to monitor the training. These are: Model Checkpoint, Early Stopping, Tensorboard callback. The summary of the model hyperparameter is shown as follows:</p>\n",
        "\n",
        "  <p style=\"font-size:20px\">\n",
        "    <strong>Batch size</strong>: 32<br>\n",
        "    <strong>Epochs</strong>: 100<br>\n",
        "    <strong>Input Shape</strong>: (224, 224, 3)<br>\n",
        "    <strong>Output layer</strong>: 8\n",
        "  </p>\n",
        "</div>\n",
        "\n",
        "\n"
      ],
      "metadata": {
        "id": "xSEhK2w02Uk-",
        "papermill": {
          "duration": 0.041902,
          "end_time": "2023-09-28T03:06:43.864042",
          "exception": false,
          "start_time": "2023-09-28T03:06:43.82214",
          "status": "completed"
        },
        "tags": []
      }
    },
    {
      "cell_type": "code",
      "source": [
        "# Load the pretained model\n",
        "pretrained_model = tf.keras.applications.efficientnet_v2.EfficientNetV2B0(\n",
        "    input_shape=(300, 300, 3),\n",
        "    include_top=False,\n",
        "    weights='imagenet',\n",
        "    pooling='max'\n",
        ")\n",
        "\n",
        "pretrained_model.trainable = False"
      ],
      "metadata": {
        "id": "z4VI_UxV2Wp2",
        "papermill": {
          "duration": 5.089811,
          "end_time": "2023-09-28T03:06:48.996258",
          "exception": false,
          "start_time": "2023-09-28T03:06:43.906447",
          "status": "completed"
        },
        "tags": [],
        "execution": {
          "iopub.status.busy": "2023-12-30T17:30:23.471169Z",
          "iopub.execute_input": "2023-12-30T17:30:23.471507Z",
          "iopub.status.idle": "2023-12-30T17:30:26.504375Z",
          "shell.execute_reply.started": "2023-12-30T17:30:23.47148Z",
          "shell.execute_reply": "2023-12-30T17:30:26.503262Z"
        },
        "trusted": true
      },
      "execution_count": null,
      "outputs": []
    },
    {
      "cell_type": "code",
      "source": [
        "# Create checkpoint callback\n",
        "checkpoint_path = \"mld_classification_model_checkpoint\"\n",
        "checkpoint_callback = ModelCheckpoint(checkpoint_path,\n",
        "                                      save_weights_only=True,\n",
        "                                      monitor=\"val_accuracy\",\n",
        "                                      save_best_only=True)\n",
        "\n",
        "# Setup EarlyStopping callback to stop training if model's val_loss doesn't improve for 3 epochs\n",
        "early_stopping = EarlyStopping(monitor = \"val_loss\", # watch the val loss metric\n",
        "                               patience = 5,\n",
        "                               restore_best_weights = True) # if val loss decreases for 3 epochs in a row, stop training\n",
        "\n",
        "reduce_lr = ReduceLROnPlateau(monitor='val_loss', factor=0.2, patience=3, min_lr=1e-6)"
      ],
      "metadata": {
        "papermill": {
          "duration": 0.058369,
          "end_time": "2023-09-28T03:06:49.103151",
          "exception": false,
          "start_time": "2023-09-28T03:06:49.044782",
          "status": "completed"
        },
        "tags": [],
        "execution": {
          "iopub.status.busy": "2023-12-30T17:30:26.505864Z",
          "iopub.execute_input": "2023-12-30T17:30:26.506174Z",
          "iopub.status.idle": "2023-12-30T17:30:26.512655Z",
          "shell.execute_reply.started": "2023-12-30T17:30:26.506149Z",
          "shell.execute_reply": "2023-12-30T17:30:26.511622Z"
        },
        "trusted": true,
        "id": "tp4fF4prFa6Z"
      },
      "execution_count": null,
      "outputs": []
    },
    {
      "cell_type": "code",
      "source": [
        "from keras import backend as K\n",
        "\n",
        "def f1_score(y_true, y_pred):\n",
        "    true_positives = K.sum(K.round(K.clip(y_true * y_pred, 0, 1)))\n",
        "    possible_positives = K.sum(K.round(K.clip(y_true, 0, 1)))\n",
        "    predicted_positives = K.sum(K.round(K.clip(y_pred, 0, 1)))\n",
        "    precision = true_positives / (predicted_positives + K.epsilon())\n",
        "    recall = true_positives / (possible_positives + K.epsilon())\n",
        "    f1_val = 2*(precision*recall)/(precision+recall+K.epsilon())\n",
        "    return f1_val\n"
      ],
      "metadata": {
        "papermill": {
          "duration": 0.059773,
          "end_time": "2023-09-28T03:06:49.211118",
          "exception": false,
          "start_time": "2023-09-28T03:06:49.151345",
          "status": "completed"
        },
        "tags": [],
        "execution": {
          "iopub.status.busy": "2023-12-30T17:30:26.517048Z",
          "iopub.execute_input": "2023-12-30T17:30:26.517431Z",
          "iopub.status.idle": "2023-12-30T17:30:26.527183Z",
          "shell.execute_reply.started": "2023-12-30T17:30:26.517391Z",
          "shell.execute_reply": "2023-12-30T17:30:26.526278Z"
        },
        "trusted": true,
        "id": "qVNlyVIUFa6Z"
      },
      "execution_count": null,
      "outputs": []
    },
    {
      "cell_type": "code",
      "source": [
        "# Existing model structure\n",
        "inputs = pretrained_model.input\n",
        "x = Dense(128, activation='relu')(pretrained_model.output)\n",
        "x = Dropout(0.45)(x)\n",
        "# x = Dense(256, activation='relu')(x)\n",
        "# x = Dropout(0.45)(x)\n",
        "outputs = Dense(4, activation='softmax')(x)\n",
        "\n",
        "model = Model(inputs=inputs, outputs=outputs)\n",
        "\n",
        "# Compile with custom F1-Score\n",
        "model.compile(\n",
        "    optimizer=Adam(0.0001),\n",
        "    loss='categorical_crossentropy',\n",
        "    metrics=['accuracy']\n",
        ")\n",
        "\n",
        "history = model.fit(\n",
        "    train_images,\n",
        "    steps_per_epoch=len(train_images),\n",
        "    validation_data=val_images,\n",
        "    validation_steps=len(val_images),\n",
        "    epochs=100,\n",
        "    callbacks=[\n",
        "        early_stopping,\n",
        "        create_tensorboard_callback(\"training_logs\", \"mld_classification\"),\n",
        "        checkpoint_callback,\n",
        "        reduce_lr\n",
        "    ]\n",
        ")"
      ],
      "metadata": {
        "_kg_hide-output": true,
        "id": "AkcAsl5H2tYl",
        "papermill": {
          "duration": 268.179131,
          "end_time": "2023-09-28T03:11:17.437872",
          "exception": false,
          "start_time": "2023-09-28T03:06:49.258741",
          "status": "completed"
        },
        "tags": [],
        "execution": {
          "iopub.status.busy": "2023-12-30T17:30:26.52831Z",
          "iopub.execute_input": "2023-12-30T17:30:26.528618Z",
          "iopub.status.idle": "2023-12-30T18:05:06.073468Z",
          "shell.execute_reply.started": "2023-12-30T17:30:26.528583Z",
          "shell.execute_reply": "2023-12-30T18:05:06.07262Z"
        },
        "trusted": true
      },
      "execution_count": null,
      "outputs": []
    },
    {
      "cell_type": "code",
      "source": [
        "model.save_weights('alzheimers_mobilenet_v2.h5')"
      ],
      "metadata": {
        "papermill": {
          "duration": 0.537594,
          "end_time": "2023-09-28T03:11:18.132493",
          "exception": false,
          "start_time": "2023-09-28T03:11:17.594899",
          "status": "completed"
        },
        "tags": [],
        "execution": {
          "iopub.status.busy": "2023-12-30T18:05:06.074679Z",
          "iopub.execute_input": "2023-12-30T18:05:06.074976Z",
          "iopub.status.idle": "2023-12-30T18:05:06.453719Z",
          "shell.execute_reply.started": "2023-12-30T18:05:06.07495Z",
          "shell.execute_reply": "2023-12-30T18:05:06.452605Z"
        },
        "trusted": true,
        "id": "VqgRavAEFa6a"
      },
      "execution_count": null,
      "outputs": []
    },
    {
      "cell_type": "markdown",
      "source": [
        "<div style=\"background-color:#fff1cc; padding: 20px; border-radius: 15px; box-shadow: 0 2px 4px 0 rgba(0, 0, 0, 0.1);\">\n",
        "    <h3 style=\"font-size:24px; font-family:verdana; color:#6F4E37;\"><b>✔️Model Evaluation</b></h3>\n",
        "<p style=\"font-size:20px; font-family:verdana; line-height: 1.7em\">The test dataset will be used to evaluate the performance of the model.One of the metrics that will be tested would be accuracy which measures the fraction of predictions the model got right. Other metrics are as follows:   </p>\n",
        "\n",
        "<h3>Precision(P):</h3>\n",
        "<p style=\"font-size:20px; font-family:verdana; line-height: 1.7em\">The fraction of true positives (TP, correct predictions) from the total amount of relevant results, i.e., the sum of TP and false positives (FP). For multi-class classification problems, P is averaged among the classes. The following is the formula for precision.</p>\n",
        "\n",
        "<h4>\n",
        "  <center>\n",
        "    <span style=\"font-size: 1.5em\">\n",
        "      $P = \\frac{TP}{TP+FP}$\n",
        "    </span>\n",
        "  </center>\n",
        "</h4>\n",
        "\n",
        "\n",
        "<h3>Recall(R): </h3>\n",
        "<p style=\"font-size:20px; font-family:verdana; line-height: 1.7em\">The fraction of TP from the total amount of TP and false negatives (FN). For multi-class classification problems, R gets averaged among all the classes. The following is the formula for recall.</p>\n",
        "\n",
        "<h4>\n",
        "  <center>\n",
        "    <span style=\"font-size: 1.5em\">\n",
        "      $R = \\frac{TP}{TP+FN}$\n",
        "    </span>\n",
        "  </center>\n",
        "</h4>\n",
        "\n",
        "\n",
        "<h3>F1 score(F1): </h3>\n",
        "\n",
        "<p style=\"font-size:20px; font-family:verdana; line-height: 1.7em\">The harmonic mean of precision and recall. For multi-class classification problems, F1 gets averaged among all the classes. The following is the formula for F1 score.</p>\n",
        "\n",
        "<h4>\n",
        "  <center>\n",
        "    <span style=\"font-size: 1.5em\">\n",
        "      $F1 = 2 \\times \\frac{TP \\times FP}{TP + FP}$\n",
        "    </span>\n",
        "  </center>\n",
        "</h4>\n",
        "</div>"
      ],
      "metadata": {
        "id": "_BWrofxS2vO0",
        "papermill": {
          "duration": 0.152346,
          "end_time": "2023-09-28T03:11:18.436755",
          "exception": false,
          "start_time": "2023-09-28T03:11:18.284409",
          "status": "completed"
        },
        "tags": []
      }
    },
    {
      "cell_type": "code",
      "source": [
        "results = model.evaluate(test_images, verbose=0)\n",
        "print(\"    Test Loss: {:.5f}\".format(results[0]))\n",
        "print(\"Test Accuracy: {:.2f}%\".format(results[1] * 100))\n",
        "# print(\"  Test F1-score: {:.2f}%\".format(results[2] * 100))"
      ],
      "metadata": {
        "id": "CS-g90hJ340B",
        "papermill": {
          "duration": 2.647276,
          "end_time": "2023-09-28T03:11:21.235097",
          "exception": false,
          "start_time": "2023-09-28T03:11:18.587821",
          "status": "completed"
        },
        "tags": [],
        "execution": {
          "iopub.status.busy": "2023-12-30T18:05:06.455254Z",
          "iopub.execute_input": "2023-12-30T18:05:06.456056Z",
          "iopub.status.idle": "2023-12-30T18:05:12.460131Z",
          "shell.execute_reply.started": "2023-12-30T18:05:06.456019Z",
          "shell.execute_reply": "2023-12-30T18:05:12.459123Z"
        },
        "trusted": true
      },
      "execution_count": null,
      "outputs": []
    },
    {
      "cell_type": "code",
      "source": [
        "import os\n",
        "\n",
        "file_size = os.path.getsize('alzheimers_mobilenet_v2.h5') / (1024 * 1024)  # Convert bytes to MB\n",
        "print(f\"Model file size: {file_size:.2f} MB\")"
      ],
      "metadata": {
        "papermill": {
          "duration": 0.164928,
          "end_time": "2023-09-28T03:11:21.551257",
          "exception": false,
          "start_time": "2023-09-28T03:11:21.386329",
          "status": "completed"
        },
        "tags": [],
        "execution": {
          "iopub.status.busy": "2023-12-30T18:05:12.461457Z",
          "iopub.execute_input": "2023-12-30T18:05:12.462189Z",
          "iopub.status.idle": "2023-12-30T18:05:12.467562Z",
          "shell.execute_reply.started": "2023-12-30T18:05:12.462153Z",
          "shell.execute_reply": "2023-12-30T18:05:12.466654Z"
        },
        "trusted": true,
        "id": "Y-x_yVpyFa6d"
      },
      "execution_count": null,
      "outputs": []
    },
    {
      "cell_type": "code",
      "source": [
        "total_params = model.count_params()\n",
        "print(f\"Total parameters: {total_params}\")"
      ],
      "metadata": {
        "papermill": {
          "duration": 0.169484,
          "end_time": "2023-09-28T03:11:21.872564",
          "exception": false,
          "start_time": "2023-09-28T03:11:21.70308",
          "status": "completed"
        },
        "tags": [],
        "execution": {
          "iopub.status.busy": "2023-12-30T18:05:12.468649Z",
          "iopub.execute_input": "2023-12-30T18:05:12.468949Z",
          "iopub.status.idle": "2023-12-30T18:05:12.484665Z",
          "shell.execute_reply.started": "2023-12-30T18:05:12.468926Z",
          "shell.execute_reply": "2023-12-30T18:05:12.483787Z"
        },
        "trusted": true,
        "id": "6C4nCp04Fa6d"
      },
      "execution_count": null,
      "outputs": []
    },
    {
      "cell_type": "markdown",
      "source": [
        "# 📉Visualizing loss curves"
      ],
      "metadata": {
        "id": "t5oGHvsG368q",
        "papermill": {
          "duration": 0.153209,
          "end_time": "2023-09-28T03:11:22.177433",
          "exception": false,
          "start_time": "2023-09-28T03:11:22.024224",
          "status": "completed"
        },
        "tags": []
      }
    },
    {
      "cell_type": "code",
      "source": [
        "# Extracting F1-score from the history object\n",
        "accuracy = history.history['accuracy']\n",
        "val_accuracy = history.history['val_accuracy']\n",
        "\n",
        "loss = history.history['loss']\n",
        "val_loss = history.history['val_loss']\n",
        "\n",
        "epochs = range(len(accuracy))\n",
        "# f1 = history.history['f1_score']\n",
        "# val_f1 = history.history['val_f1_score']\n",
        "\n",
        "fig, (ax1, ax2, ax3) = plt.subplots(1, 3, figsize=(18, 6))  # Create a 1x3 grid of plots\n",
        "\n",
        "# Plot accuracy\n",
        "ax1.plot(epochs, accuracy, 'b', label='Training accuracy')\n",
        "ax1.plot(epochs, val_accuracy, 'r', label='Validation accuracy')\n",
        "ax1.set_title('Training and validation accuracy')\n",
        "ax1.legend()\n",
        "\n",
        "# Plot loss\n",
        "ax2.plot(epochs, loss, 'b', label='Training loss')\n",
        "ax2.plot(epochs, val_loss, 'r', label='Validation loss')\n",
        "ax2.set_title('Training and validation loss')\n",
        "ax2.legend()\n",
        "\n",
        "# Plot F1-score\n",
        "# ax3.plot(epochs, f1, 'b', label='Training F1-score')\n",
        "# ax3.plot(epochs, val_f1, 'r', label='Validation F1-score')\n",
        "# ax3.set_title('Training and validation F1-score')\n",
        "# ax3.legend()\n",
        "\n",
        "plt.tight_layout()  # Adjust the padding between and around the subplots\n",
        "plt.show()\n"
      ],
      "metadata": {
        "papermill": {
          "duration": 1.242515,
          "end_time": "2023-09-28T03:11:23.573786",
          "exception": false,
          "start_time": "2023-09-28T03:11:22.331271",
          "status": "completed"
        },
        "tags": [],
        "execution": {
          "iopub.status.busy": "2023-12-30T18:17:14.256361Z",
          "iopub.execute_input": "2023-12-30T18:17:14.256717Z",
          "iopub.status.idle": "2023-12-30T18:17:15.328854Z",
          "shell.execute_reply.started": "2023-12-30T18:17:14.256691Z",
          "shell.execute_reply": "2023-12-30T18:17:15.327978Z"
        },
        "trusted": true,
        "id": "bUCPHSEVFa6f"
      },
      "execution_count": null,
      "outputs": []
    },
    {
      "cell_type": "markdown",
      "source": [
        "# 🔮Making predictions on the Test Data"
      ],
      "metadata": {
        "id": "0BL7xgPz4Fv-",
        "papermill": {
          "duration": 0.154361,
          "end_time": "2023-09-28T03:11:23.882692",
          "exception": false,
          "start_time": "2023-09-28T03:11:23.728331",
          "status": "completed"
        },
        "tags": []
      }
    },
    {
      "cell_type": "code",
      "source": [
        "# Predict the label of the test_images\n",
        "pred = model.predict(test_images)\n",
        "pred = np.argmax(pred,axis=1)\n",
        "\n",
        "# Map the labelz\n",
        "labels = (train_images.class_indices)\n",
        "labels = dict((v,k) for k,v in labels.items())\n",
        "pred = [labels[k] for k in pred]\n",
        "\n",
        "# Display the result\n",
        "print(f'The first 5 predictions: {pred[:5]}')"
      ],
      "metadata": {
        "id": "KxAegJBB4HlW",
        "papermill": {
          "duration": 2.491847,
          "end_time": "2023-09-28T03:11:26.533053",
          "exception": false,
          "start_time": "2023-09-28T03:11:24.041206",
          "status": "completed"
        },
        "tags": [],
        "execution": {
          "iopub.status.busy": "2023-12-30T18:17:22.991692Z",
          "iopub.execute_input": "2023-12-30T18:17:22.992422Z",
          "iopub.status.idle": "2023-12-30T18:17:30.661758Z",
          "shell.execute_reply.started": "2023-12-30T18:17:22.992384Z",
          "shell.execute_reply": "2023-12-30T18:17:30.660795Z"
        },
        "trusted": true
      },
      "execution_count": null,
      "outputs": []
    },
    {
      "cell_type": "code",
      "source": [
        "  # Display 25 random pictures from the dataset with their labels\n",
        "random_index = np.random.randint(0, len(test_df) - 1, 15)\n",
        "fig, axes = plt.subplots(nrows=3, ncols=5, figsize=(25, 15),\n",
        "                        subplot_kw={'xticks': [], 'yticks': []})\n",
        "\n",
        "for i, ax in enumerate(axes.flat):\n",
        "    ax.imshow(plt.imread(test_df.Filepath.iloc[random_index[i]]))\n",
        "    if test_df.Label.iloc[random_index[i]] == pred[random_index[i]]:\n",
        "        color = \"green\"\n",
        "    else:\n",
        "        color = \"red\"\n",
        "    ax.set_title(f\"True: {test_df.Label.iloc[random_index[i]]}\\nPredicted: {pred[random_index[i]]}\", color=color)\n",
        "plt.show()\n",
        "plt.tight_layout()"
      ],
      "metadata": {
        "id": "pWO4e4wb4Iln",
        "papermill": {
          "duration": 2.395449,
          "end_time": "2023-09-28T03:11:29.163764",
          "exception": false,
          "start_time": "2023-09-28T03:11:26.768315",
          "status": "completed"
        },
        "tags": [],
        "execution": {
          "iopub.status.busy": "2023-12-30T18:17:30.663821Z",
          "iopub.execute_input": "2023-12-30T18:17:30.664488Z",
          "iopub.status.idle": "2023-12-30T18:17:32.176089Z",
          "shell.execute_reply.started": "2023-12-30T18:17:30.66445Z",
          "shell.execute_reply": "2023-12-30T18:17:32.174939Z"
        },
        "trusted": true
      },
      "execution_count": null,
      "outputs": []
    },
    {
      "cell_type": "code",
      "source": [
        "import time\n",
        "\n",
        "start_time = time.time()\n",
        "model.predict(test_images)  # or any other input, just for demonstration\n",
        "end_time = time.time()\n",
        "\n",
        "print(f\"Inference time: {end_time - start_time:.2f} seconds\")"
      ],
      "metadata": {
        "papermill": {
          "duration": 1.519177,
          "end_time": "2023-09-28T03:11:30.867127",
          "exception": false,
          "start_time": "2023-09-28T03:11:29.34795",
          "status": "completed"
        },
        "tags": [],
        "execution": {
          "iopub.status.busy": "2023-12-30T18:17:32.177167Z",
          "iopub.execute_input": "2023-12-30T18:17:32.177483Z",
          "iopub.status.idle": "2023-12-30T18:17:36.997793Z",
          "shell.execute_reply.started": "2023-12-30T18:17:32.177458Z",
          "shell.execute_reply": "2023-12-30T18:17:36.996868Z"
        },
        "trusted": true,
        "id": "QcGA83X3Fa6j"
      },
      "execution_count": null,
      "outputs": []
    },
    {
      "cell_type": "markdown",
      "source": [
        "<div style=\"background-color:#fff1cc; padding: 20px; border-radius: 15px; box-shadow: 0 2px 4px 0 rgba(0, 0, 0, 0.1);\">\n",
        "    <h3 style=\"font-size:24px; font-family:verdana; color:#6F4E37;\"><b>📊Plotting the Classification Reports and Confusion Matrix</b></h3>\n",
        "<p style=\"font-size:20px; font-family:verdana; line-height: 1.7em\"><b>Confusion matrix</b> and <b>classification report</b> are two important tools used for evaluating the performance of an image classification model.</p>\n",
        "\n",
        "<p style=\"font-size:20px; font-family:verdana; line-height: 1.7em\">A <b>confusion matrix</b> is a table that summarizes the number of correct and incorrect predictions made by a classification model on a set of test data. It is usually represented as a square matrix with rows and columns representing the predicted and true class labels, respectively. The entries of the matrix indicate the number of test samples that belong to a certain class, and how many of those were classified correctly or incorrectly by the model. A confusion matrix can provide a detailed breakdown of the performance of the model, including measures such as accuracy, precision, recall, and F1-score for each class. It can be used to identify specific areas where the model is making errors, and to diagnose problems with the model's predictions.</p>\n",
        "\n",
        "<p style=\"font-size:20px; font-family:verdana; line-height: 1.7em\">A <b>classification report</b> is a summary of the key performance metrics for a classification model, including precision, recall, and F1-score, as well as the overall accuracy of the model. It provides a concise overview of the model's performance, typically broken down by class, and can be used to quickly assess the strengths and weaknesses of the model. The report is often presented as a table, with each row representing a class and columns showing various performance metrics. The report may also include other metrics such as support (the number of test samples belonging to a particular class), and the macro- and micro-averages of the performance metrics across all classes.</p>\n",
        "\n",
        "<p style=\"font-size:20px; font-family:verdana; line-height: 1.7em\">In image classification, both confusion matrix and classification report are important tools for evaluating the performance of the model, identifying areas for improvement, and making decisions about how to adjust the model's architecture or training parameters.</p>\n",
        "</div>"
      ],
      "metadata": {
        "id": "jLYd5vYJ4KTu",
        "papermill": {
          "duration": 0.190676,
          "end_time": "2023-09-28T03:11:31.242436",
          "exception": false,
          "start_time": "2023-09-28T03:11:31.05176",
          "status": "completed"
        },
        "tags": []
      }
    },
    {
      "cell_type": "code",
      "source": [
        "from sklearn.metrics import precision_recall_curve, average_precision_score\n",
        "from sklearn.preprocessing import LabelBinarizer\n",
        "import matplotlib.pyplot as plt\n",
        "\n",
        "# Convert labels to one-hot encoding\n",
        "lb = LabelBinarizer()\n",
        "y_true_onehot = lb.fit_transform(test_df.Label)\n",
        "\n",
        "# Convert predictions to one-hot encoding\n",
        "y_pred_onehot = lb.transform(pred)\n",
        "\n",
        "# For storing average precision for each class\n",
        "average_precision = {}\n",
        "\n",
        "# Get class names\n",
        "class_names = lb.classes_\n",
        "\n",
        "# Plot PR curve for each class\n",
        "n_classes = y_true_onehot.shape[1]\n",
        "plt.figure(figsize=(15, 12))\n",
        "\n",
        "for i in range(n_classes):\n",
        "    precision, recall, _ = precision_recall_curve(y_true_onehot[:, i], y_pred_onehot[:, i])\n",
        "    average_precision[i] = average_precision_score(y_true_onehot[:, i], y_pred_onehot[:, i])\n",
        "\n",
        "    # Printing the precision and recall values for each class using the actual class names\n",
        "    print(f\"Class {class_names[i]}:\")\n",
        "    print(\"Precision:\", precision)\n",
        "    print(\"Recall:\", recall)\n",
        "    print(f\"Average Precision: {average_precision[i]:.2f}\\n\")\n",
        "\n",
        "    plt.plot(recall, precision, lw=2, label=f'{class_names[i]} (average precision = {average_precision[i]:0.2f})')\n",
        "\n",
        "plt.xlabel(\"recall\")\n",
        "plt.ylabel(\"precision\")\n",
        "plt.legend(loc=\"best\")\n",
        "plt.title(\"Precision vs. Recall curve\")\n",
        "plt.grid(True)\n",
        "plt.show()\n"
      ],
      "metadata": {
        "papermill": {
          "duration": 0.816424,
          "end_time": "2023-09-28T03:11:32.247526",
          "exception": false,
          "start_time": "2023-09-28T03:11:31.431102",
          "status": "completed"
        },
        "tags": [],
        "execution": {
          "iopub.status.busy": "2023-12-30T18:17:37.00075Z",
          "iopub.execute_input": "2023-12-30T18:17:37.001415Z",
          "iopub.status.idle": "2023-12-30T18:17:37.506082Z",
          "shell.execute_reply.started": "2023-12-30T18:17:37.001379Z",
          "shell.execute_reply": "2023-12-30T18:17:37.505199Z"
        },
        "trusted": true,
        "id": "GQAJUVVzFa6k"
      },
      "execution_count": null,
      "outputs": []
    },
    {
      "cell_type": "code",
      "source": [
        "y_test = list(test_df.Label)\n",
        "report = classification_report(y_test, pred, output_dict=True)\n",
        "df = pd.DataFrame(report).transpose()\n",
        "df"
      ],
      "metadata": {
        "id": "bYWvkbXI4Ns2",
        "papermill": {
          "duration": 0.229346,
          "end_time": "2023-09-28T03:11:32.674046",
          "exception": false,
          "start_time": "2023-09-28T03:11:32.4447",
          "status": "completed"
        },
        "tags": [],
        "execution": {
          "iopub.status.busy": "2023-12-30T18:17:37.507465Z",
          "iopub.execute_input": "2023-12-30T18:17:37.508101Z",
          "iopub.status.idle": "2023-12-30T18:17:37.55375Z",
          "shell.execute_reply.started": "2023-12-30T18:17:37.508065Z",
          "shell.execute_reply": "2023-12-30T18:17:37.552869Z"
        },
        "trusted": true
      },
      "execution_count": null,
      "outputs": []
    },
    {
      "cell_type": "code",
      "source": [
        "# Remove the 'accuracy' row\n",
        "df = df.drop(['accuracy'])\n",
        "\n",
        "# Remove the 'support' column\n",
        "df = df.drop(['support'], axis=1)\n",
        "\n",
        "plt.figure(figsize=(10, 10))\n",
        "sns.heatmap(df, annot=True, cmap='YlOrBr')\n",
        "plt.title('Classification Report Heatmap', fontsize=20)\n",
        "plt.show()\n"
      ],
      "metadata": {
        "_kg_hide-input": true,
        "papermill": {
          "duration": 0.697051,
          "end_time": "2023-09-28T03:11:33.572248",
          "exception": false,
          "start_time": "2023-09-28T03:11:32.875197",
          "status": "completed"
        },
        "tags": [],
        "execution": {
          "iopub.status.busy": "2023-12-30T18:17:37.554895Z",
          "iopub.execute_input": "2023-12-30T18:17:37.555183Z",
          "iopub.status.idle": "2023-12-30T18:17:38.046467Z",
          "shell.execute_reply.started": "2023-12-30T18:17:37.555158Z",
          "shell.execute_reply": "2023-12-30T18:17:38.045594Z"
        },
        "trusted": true,
        "id": "Gyxd0p69Fa6l"
      },
      "execution_count": null,
      "outputs": []
    },
    {
      "cell_type": "code",
      "source": [
        "def make_confusion_matrix(y_true, y_pred, classes=None, figsize=(20, 14), text_size=10, norm=False, savefig=False):\n",
        "    \"\"\"Makes a labelled confusion matrix comparing predictions and ground truth labels.\n",
        "\n",
        "    If classes is passed, confusion matrix will be labelled, if not, integer class values\n",
        "  will be used.\n",
        "\n",
        "  Args:\n",
        "    y_true: Array of truth labels (must be same shape as y_pred).\n",
        "    y_pred: Array of predicted labels (must be same shape as y_true).\n",
        "    classes: Array of class labels (e.g. string form). If `None`, integer labels are used.\n",
        "    figsize: Size of output figure (default=(10, 10)).\n",
        "    text_size: Size of output figure text (default=15).\n",
        "    norm: normalize values or not (default=False).\n",
        "    savefig: save confusion matrix to file (default=False).\n",
        "\n",
        "  Returns:\n",
        "    A labelled confusion matrix plot comparing y_true and y_pred.\n",
        "\n",
        "  Example usage:\n",
        "    make_confusion_matrix(y_true=test_labels, # ground truth test labels\n",
        "                          y_pred=y_preds, # predicted labels\n",
        "                          classes=class_names, # array of class label names\n",
        "                          figsize=(15, 15),\n",
        "                          text_size=10)\n",
        "    \"\"\"\n",
        "  # Create the confustion matrix\n",
        "\n",
        "    # Use the fivethirtyeight style\n",
        "    plt.style.use('fivethirtyeight')\n",
        "    cm = confusion_matrix(y_true, y_pred)\n",
        "    cm_norm = cm.astype(\"float\") / cm.sum(axis=1)[:, np.newaxis] # normalize it\n",
        "    n_classes = cm.shape[0] # find the number of classes we're dealing with\n",
        "\n",
        "    # Plot the figure and make it pretty\n",
        "    fig, ax = plt.subplots(figsize=figsize)\n",
        "    cax = ax.matshow(cm, cmap=plt.cm.YlOrBr) # colors will represent how 'correct' a class is, darker == better\n",
        "    fig.colorbar(cax)\n",
        "\n",
        "    # Are there a list of classes?\n",
        "    if classes:\n",
        "        labels = classes\n",
        "    else:\n",
        "        labels = np.arange(cm.shape[0])\n",
        "\n",
        "    # Label the axes\n",
        "    ax.set(title=\"Confusion Matrix\",\n",
        "         xlabel=\"Predicted label\",\n",
        "         ylabel=\"True label\",\n",
        "         xticks=np.arange(n_classes), # create enough axis slots for each class\n",
        "         yticks=np.arange(n_classes),\n",
        "         xticklabels=labels, # axes will labeled with class names (if they exist) or ints\n",
        "         yticklabels=labels)\n",
        "\n",
        "    # Make x-axis labels appear on bottom\n",
        "    ax.xaxis.set_label_position(\"bottom\")\n",
        "    ax.xaxis.tick_bottom()\n",
        "    ### Added: Rotate xticks for readability & increase font size (required due to such a large confusion matrix)\n",
        "    plt.xticks(rotation=90, fontsize=text_size)\n",
        "    plt.yticks(fontsize=text_size)\n",
        "\n",
        "    # Set the threshold for different colors\n",
        "    threshold = (cm.max() + cm.min()) / 2.\n",
        "\n",
        "    # Plot the text on each cell\n",
        "    for i, j in itertools.product(range(cm.shape[0]), range(cm.shape[1])):\n",
        "        if norm:\n",
        "            plt.text(j, i, f\"{cm[i, j]} ({cm_norm[i, j]*100:.1f}%)\",\n",
        "                horizontalalignment=\"center\",\n",
        "                color=\"white\" if cm[i, j] > threshold else \"black\",\n",
        "                size=text_size)\n",
        "        else:\n",
        "            plt.text(j, i, f\"{cm[i, j]}\",\n",
        "              horizontalalignment=\"center\",\n",
        "              color=\"white\" if cm[i, j] > threshold else \"black\",\n",
        "              size=text_size)\n",
        "\n",
        "  # Save the figure to the current working directory\n",
        "    if savefig:\n",
        "        fig.savefig(\"confusion_matrix.png\")\n"
      ],
      "metadata": {
        "_kg_hide-input": true,
        "papermill": {
          "duration": 0.206767,
          "end_time": "2023-09-28T03:11:33.972584",
          "exception": false,
          "start_time": "2023-09-28T03:11:33.765817",
          "status": "completed"
        },
        "tags": [],
        "execution": {
          "iopub.status.busy": "2023-12-30T18:17:38.047769Z",
          "iopub.execute_input": "2023-12-30T18:17:38.048058Z",
          "iopub.status.idle": "2023-12-30T18:17:38.060731Z",
          "shell.execute_reply.started": "2023-12-30T18:17:38.048033Z",
          "shell.execute_reply": "2023-12-30T18:17:38.05985Z"
        },
        "trusted": true,
        "id": "8_es6LwOFa6r"
      },
      "execution_count": null,
      "outputs": []
    },
    {
      "cell_type": "code",
      "source": [
        "# make_confusion_matrix(y_test, pred, list(labels.values()))"
      ],
      "metadata": {
        "papermill": {
          "duration": 0.973315,
          "end_time": "2023-09-28T03:11:35.137337",
          "exception": false,
          "start_time": "2023-09-28T03:11:34.164022",
          "status": "completed"
        },
        "tags": [],
        "execution": {
          "iopub.status.busy": "2023-12-30T18:18:06.562148Z",
          "iopub.execute_input": "2023-12-30T18:18:06.563113Z",
          "iopub.status.idle": "2023-12-30T18:18:06.567267Z",
          "shell.execute_reply.started": "2023-12-30T18:18:06.563077Z",
          "shell.execute_reply": "2023-12-30T18:18:06.566283Z"
        },
        "trusted": true,
        "id": "ZRkCni-uFa6r"
      },
      "execution_count": null,
      "outputs": []
    },
    {
      "cell_type": "markdown",
      "source": [
        "<div style=\"background-color:#fff1cc; padding: 20px; border-radius: 15px; box-shadow: 0 2px 4px 0 rgba(0, 0, 0, 0.1);\">\n",
        "    <h3 style=\"font-size:24px; font-family:verdana; color:#6F4E37;\"><b>☀️Grad-Cam Visualization</b></h3>\n",
        "<p style=\"font-size:20px; font-family:verdana; line-height: 1.7em\"><b>Grad-CAM (Gradient-weighted Class Activation Mapping)</b> is a technique used to visualize the regions of an input image that were most relevant for a neural network's prediction. It allows you to see which regions of the image the model focused on while making its prediction. Grad-CAM is a modification of the CAM technique that extends the latter to any model that uses a convolutional neural network (CNN) as its underlying architecture.</p>\n",
        "</div>"
      ],
      "metadata": {
        "papermill": {
          "duration": 0.190569,
          "end_time": "2023-09-28T03:11:35.519157",
          "exception": false,
          "start_time": "2023-09-28T03:11:35.328588",
          "status": "completed"
        },
        "tags": [],
        "id": "XeD3BUd9Fa6r"
      }
    },
    {
      "cell_type": "code",
      "source": [
        "def get_img_array(img_path, size):\n",
        "    img = tf.keras.preprocessing.image.load_img(img_path, target_size=size)\n",
        "    array = tf.keras.preprocessing.image.img_to_array(img)\n",
        "    # We add a dimension to transform our array into a \"batch\"\n",
        "    # of size \"size\"\n",
        "    array = np.expand_dims(array, axis=0)\n",
        "    return array\n",
        "\n",
        "def make_gradcam_heatmap(img_array, model, last_conv_layer_name, pred_index=None):\n",
        "    # First, we create a model that maps the input image to the activations\n",
        "    # of the last conv layer as well as the output predictions\n",
        "    grad_model = tf.keras.models.Model(\n",
        "        [model.inputs], [model.get_layer(last_conv_layer_name).output, model.output]\n",
        "    )\n",
        "\n",
        "    # Then, we compute the gradient of the top predicted class for our input image\n",
        "    # with respect to the activations of the last conv layer\n",
        "    with tf.GradientTape() as tape:\n",
        "        last_conv_layer_output, preds = grad_model(img_array)\n",
        "        if pred_index is None:\n",
        "            pred_index = tf.argmax(preds[0])\n",
        "        class_channel = preds[:, pred_index]\n",
        "    # This is the gradient of the output neuron (top predicted or chosen)\n",
        "    # with regard to the output feature map of the last conv layer\n",
        "    grads = tape.gradient(class_channel, last_conv_layer_output)\n",
        "\n",
        "    # This is a vector where each entry is the mean intensity of the gradient\n",
        "    # over a specific feature map channel\n",
        "    pooled_grads = tf.reduce_mean(grads, axis=(0, 1, 2))\n",
        "\n",
        "    # We multiply each channel in the feature map array\n",
        "    # by \"how important this channel is\" with regard to the top predicted class\n",
        "    # then sum all the channels to obtain the heatmap class activation\n",
        "    last_conv_layer_output = last_conv_layer_output[0]\n",
        "    heatmap = last_conv_layer_output @ pooled_grads[..., tf.newaxis]\n",
        "    heatmap = tf.squeeze(heatmap)\n",
        "\n",
        "    # For visualization purpose, we will also normalize the heatmap between 0 & 1\n",
        "    heatmap = tf.maximum(heatmap, 0) / tf.math.reduce_max(heatmap)\n",
        "    return heatmap.numpy()\n",
        "def save_and_display_gradcam(img_path, heatmap, cam_path=\"cam.jpg\", alpha=0.4):\n",
        "    # Load the original image\n",
        "    img = tf.keras.preprocessing.image.load_img(img_path)\n",
        "    img = tf.keras.preprocessing.image.img_to_array(img)\n",
        "\n",
        "    # Rescale heatmap to a range 0-255\n",
        "    heatmap = np.uint8(255 * heatmap)\n",
        "\n",
        "    # Use jet colormap to colorize heatmap\n",
        "    jet = cm.get_cmap(\"jet\")\n",
        "\n",
        "    # Use RGB values of the colormap\n",
        "    jet_colors = jet(np.arange(256))[:, :3]\n",
        "    jet_heatmap = jet_colors[heatmap]\n",
        "\n",
        "    # Create an image with RGB colorized heatmap\n",
        "    jet_heatmap = tf.keras.preprocessing.image.array_to_img(jet_heatmap)\n",
        "    jet_heatmap = jet_heatmap.resize((img.shape[1], img.shape[0]))\n",
        "    jet_heatmap = tf.keras.preprocessing.image.img_to_array(jet_heatmap)\n",
        "\n",
        "    # Superimpose the heatmap on original image\n",
        "    superimposed_img = jet_heatmap * alpha + img\n",
        "    superimposed_img = tf.keras.preprocessing.image.array_to_img(superimposed_img)\n",
        "    # Save the superimposed image\n",
        "    superimposed_img.save(cam_path)\n",
        "\n",
        "    # Display Grad CAM\n",
        "#     display(Image(cam_path))\n",
        "\n",
        "    return cam_path\n",
        "\n",
        "preprocess_input = tf.keras.applications.efficientnet.preprocess_input\n",
        "decode_predictions = tf.keras.applications.efficientnet.decode_predictions\n",
        "\n",
        "last_conv_layer_name = \"top_conv\"\n",
        "\n",
        "img_size = (224,224, 3)\n",
        "\n",
        "# Remove last layer's softmax\n",
        "model.layers[-1].activation = None"
      ],
      "metadata": {
        "_kg_hide-input": true,
        "papermill": {
          "duration": 0.260635,
          "end_time": "2023-09-28T03:11:35.980378",
          "exception": false,
          "start_time": "2023-09-28T03:11:35.719743",
          "status": "completed"
        },
        "tags": [],
        "execution": {
          "iopub.status.busy": "2023-12-30T18:18:08.696093Z",
          "iopub.execute_input": "2023-12-30T18:18:08.696921Z",
          "iopub.status.idle": "2023-12-30T18:18:08.711832Z",
          "shell.execute_reply.started": "2023-12-30T18:18:08.696888Z",
          "shell.execute_reply": "2023-12-30T18:18:08.710882Z"
        },
        "trusted": true,
        "id": "d6fAF7OaFa6s"
      },
      "execution_count": null,
      "outputs": []
    },
    {
      "cell_type": "code",
      "source": [
        "# import textwrap\n",
        "\n",
        "# # Display the part of the pictures used by the neural network to classify the pictures\n",
        "# fig, axes = plt.subplots(nrows=3, ncols=5, figsize=(15, 10),\n",
        "#                         subplot_kw={'xticks': [], 'yticks': []})\n",
        "\n",
        "# for i, ax in enumerate(axes.flat):\n",
        "#     img_path = test_df.Filepath.iloc[random_index[i]]\n",
        "#     img_array = preprocess_input(get_img_array(img_path, size=img_size))\n",
        "#     heatmap = make_gradcam_heatmap(img_array, model, last_conv_layer_name)\n",
        "#     cam_path = save_and_display_gradcam(img_path, heatmap)\n",
        "#     ax.imshow(plt.imread(cam_path))\n",
        "\n",
        "#     # Wrap the title text\n",
        "#     title_text = f\"True: {test_df.Label.iloc[random_index[i]]}\\nPredicted: {pred[random_index[i]]}\"\n",
        "#     wrapped_title = '\\n'.join(textwrap.wrap(title_text, 20))  # Adjust the number as needed\n",
        "#     ax.set_title(wrapped_title)\n",
        "\n",
        "# plt.tight_layout()\n",
        "# plt.show()\n"
      ],
      "metadata": {
        "_kg_hide-input": true,
        "papermill": {
          "duration": 6.40217,
          "end_time": "2023-09-28T03:11:42.57512",
          "exception": false,
          "start_time": "2023-09-28T03:11:36.17295",
          "status": "completed"
        },
        "tags": [],
        "execution": {
          "iopub.status.busy": "2023-12-30T18:18:17.115911Z",
          "iopub.execute_input": "2023-12-30T18:18:17.116792Z",
          "iopub.status.idle": "2023-12-30T18:18:17.121329Z",
          "shell.execute_reply.started": "2023-12-30T18:18:17.116756Z",
          "shell.execute_reply": "2023-12-30T18:18:17.120288Z"
        },
        "trusted": true,
        "id": "7pEidb2sFa6s"
      },
      "execution_count": null,
      "outputs": []
    },
    {
      "cell_type": "markdown",
      "source": [
        "***\n",
        "\n",
        "<div style=\"color:white;\n",
        "           display:fill;\n",
        "           border-radius:5px;\n",
        "           background-color:#5642C5;\n",
        "           font-size:110%;\n",
        "           font-family:Verdana;\n",
        "           letter-spacing:0.5px\">\n",
        "        <p style=\"padding: 10px;\n",
        "              color:white;\">\n",
        "            Thanks for viewing my work. If you like it, consider sharing it to others or give feedback to improve the notebook. Have a beautiful day my friend.\n",
        "        </p>\n",
        "    </div>\n",
        "\n",
        "<center><img src='https://media4.giphy.com/media/M9gbBd9nbDrOTu1Mqx/giphy.gif?cid=790b7611704aa2ca4e403287801480a6c753abf45f3e6242&rid=giphy.gif&ct=s'\n",
        "     height=30px width=160px /></center>"
      ],
      "metadata": {
        "papermill": {
          "duration": 0.21715,
          "end_time": "2023-09-28T03:11:43.003406",
          "exception": false,
          "start_time": "2023-09-28T03:11:42.786256",
          "status": "completed"
        },
        "tags": [],
        "id": "y0BWf5aiFa6s"
      }
    },
    {
      "cell_type": "code",
      "source": [],
      "metadata": {
        "papermill": {
          "duration": 0.209284,
          "end_time": "2023-09-28T03:11:43.428099",
          "exception": false,
          "start_time": "2023-09-28T03:11:43.218815",
          "status": "completed"
        },
        "tags": [],
        "id": "C4faeUL2Fa6s"
      },
      "execution_count": null,
      "outputs": []
    },
    {
      "cell_type": "code",
      "source": [],
      "metadata": {
        "id": "QTd7B69sFa6s"
      },
      "execution_count": null,
      "outputs": []
    }
  ]
}